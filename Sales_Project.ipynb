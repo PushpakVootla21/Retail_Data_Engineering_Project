{
 "cells": [
  {
   "cell_type": "code",
   "execution_count": null,
   "metadata": {
    "application/vnd.databricks.v1+cell": {
     "cellMetadata": {},
     "inputWidgets": {},
     "nuid": "bcb7fd5f-7db1-4721-8fb0-2ea4364f8199",
     "showTitle": false,
     "title": ""
    }
   },
   "outputs": [],
   "source": [
    "filename = dbutils.widgets.get(\"filename\")\n",
    "print(filename)"
   ]
  },
  {
   "cell_type": "code",
   "execution_count": null,
   "metadata": {
    "application/vnd.databricks.v1+cell": {
     "cellMetadata": {},
     "inputWidgets": {},
     "nuid": "fa24009a-f5bd-4b06-8dc6-14f2f6fd26a4",
     "showTitle": false,
     "title": ""
    }
   },
   "outputs": [],
   "source": [
    "alreadyMounted = False\n",
    "for x in dbutils.fs.mounts():\n",
    "    if x.mountPoint == '/mnt/sales':\n",
    "        alreadyMounted = True\n",
    "        break\n",
    "    else:\n",
    "        alreadyMounted = False\n",
    "print(alreadyMounted)\n"
   ]
  },
  {
   "cell_type": "code",
   "execution_count": null,
   "metadata": {
    "application/vnd.databricks.v1+cell": {
     "cellMetadata": {},
     "inputWidgets": {},
     "nuid": "30351ecb-7f66-4350-adf7-9002a5b4363c",
     "showTitle": false,
     "title": ""
    }
   },
   "outputs": [],
   "source": [
    "if not alreadyMounted:\n",
    "    dbutils.fs.mount(\n",
    "source = 'wasbs://sales@retaildbsales.blob.core.windows.net',\n",
    "mount_point = '/mnt/sales',\n",
    "extra_configs={'fs.azure.account.key.retaildbsales.blob.core.windows.net':'<storage_acccount_accesskey'})\n",
    "    alreadyMounted = True\n",
    "    print(\"mounting done successfully\")\n",
    "else:\n",
    "    print(\"already mounted\")\n"
   ]
  },
  {
   "cell_type": "code",
   "execution_count": null,
   "metadata": {
    "application/vnd.databricks.v1+cell": {
     "cellMetadata": {
      "byteLimit": 2048000,
      "rowLimit": 10000
     },
     "inputWidgets": {},
     "nuid": "f4d21036-faf6-48df-8027-aa623c678157",
     "showTitle": false,
     "title": ""
    }
   },
   "outputs": [
    {
     "data": {
      "text/html": [
       "<style scoped>\n",
       "  .table-result-container {\n",
       "    max-height: 300px;\n",
       "    overflow: auto;\n",
       "  }\n",
       "  table, th, td {\n",
       "    border: 1px solid black;\n",
       "    border-collapse: collapse;\n",
       "  }\n",
       "  th, td {\n",
       "    padding: 5px;\n",
       "  }\n",
       "  th {\n",
       "    text-align: left;\n",
       "  }\n",
       "</style><div class='table-result-container'><table class='table-result'><thead style='background-color: white'><tr><th>path</th><th>name</th><th>size</th><th>modificationTime</th></tr></thead><tbody><tr><td>dbfs:/mnt/sales/discarded/</td><td>discarded/</td><td>0</td><td>0</td></tr><tr><td>dbfs:/mnt/sales/landing/</td><td>landing/</td><td>0</td><td>0</td></tr><tr><td>dbfs:/mnt/sales/staging/</td><td>staging/</td><td>0</td><td>0</td></tr></tbody></table></div>"
      ]
     },
     "metadata": {
      "application/vnd.databricks.v1+output": {
       "addedWidgets": {},
       "aggData": [],
       "aggError": "",
       "aggOverflow": false,
       "aggSchema": [],
       "aggSeriesLimitReached": false,
       "aggType": "",
       "arguments": {},
       "columnCustomDisplayInfos": {},
       "data": [
        [
         "dbfs:/mnt/sales/discarded/",
         "discarded/",
         0,
         0
        ],
        [
         "dbfs:/mnt/sales/landing/",
         "landing/",
         0,
         0
        ],
        [
         "dbfs:/mnt/sales/staging/",
         "staging/",
         0,
         0
        ]
       ],
       "datasetInfos": [],
       "dbfsResultPath": null,
       "isJsonSchema": true,
       "metadata": {
        "isDbfsCommandResult": false
       },
       "overflow": false,
       "plotOptions": {
        "customPlotOptions": {},
        "displayType": "table",
        "pivotAggregation": null,
        "pivotColumns": null,
        "xColumns": null,
        "yColumns": null
       },
       "removedWidgets": [],
       "schema": [
        {
         "metadata": "{}",
         "name": "path",
         "type": "\"string\""
        },
        {
         "metadata": "{}",
         "name": "name",
         "type": "\"string\""
        },
        {
         "metadata": "{}",
         "name": "size",
         "type": "\"long\""
        },
        {
         "metadata": "{}",
         "name": "modificationTime",
         "type": "\"long\""
        }
       ],
       "type": "table"
      }
     },
     "output_type": "display_data"
    }
   ],
   "source": [
    "%fs \n",
    "ls /mnt/sales"
   ]
  },
  {
   "cell_type": "code",
   "execution_count": null,
   "metadata": {
    "application/vnd.databricks.v1+cell": {
     "cellMetadata": {
      "byteLimit": 2048000,
      "rowLimit": 10000
     },
     "inputWidgets": {},
     "nuid": "31b9e5ae-a7f8-4ed6-83fc-6208abfad61b",
     "showTitle": false,
     "title": ""
    }
   },
   "outputs": [
    {
     "data": {
      "text/html": [
       "<style scoped>\n",
       "  .table-result-container {\n",
       "    max-height: 300px;\n",
       "    overflow: auto;\n",
       "  }\n",
       "  table, th, td {\n",
       "    border: 1px solid black;\n",
       "    border-collapse: collapse;\n",
       "  }\n",
       "  th, td {\n",
       "    padding: 5px;\n",
       "  }\n",
       "  th {\n",
       "    text-align: left;\n",
       "  }\n",
       "</style><div class='table-result-container'><table class='table-result'><thead style='background-color: white'><tr><th>path</th><th>name</th><th>size</th><th>modificationTime</th></tr></thead><tbody><tr><td>dbfs:/mnt/sales/landing/orders.csv</td><td>orders.csv</td><td>224</td><td>1724833484000</td></tr></tbody></table></div>"
      ]
     },
     "metadata": {
      "application/vnd.databricks.v1+output": {
       "addedWidgets": {},
       "aggData": [],
       "aggError": "",
       "aggOverflow": false,
       "aggSchema": [],
       "aggSeriesLimitReached": false,
       "aggType": "",
       "arguments": {},
       "columnCustomDisplayInfos": {},
       "data": [
        [
         "dbfs:/mnt/sales/landing/orders.csv",
         "orders.csv",
         224,
         1724833484000
        ]
       ],
       "datasetInfos": [],
       "dbfsResultPath": null,
       "isJsonSchema": true,
       "metadata": {
        "isDbfsCommandResult": false
       },
       "overflow": false,
       "plotOptions": {
        "customPlotOptions": {},
        "displayType": "table",
        "pivotAggregation": null,
        "pivotColumns": null,
        "xColumns": null,
        "yColumns": null
       },
       "removedWidgets": [],
       "schema": [
        {
         "metadata": "{}",
         "name": "path",
         "type": "\"string\""
        },
        {
         "metadata": "{}",
         "name": "name",
         "type": "\"string\""
        },
        {
         "metadata": "{}",
         "name": "size",
         "type": "\"long\""
        },
        {
         "metadata": "{}",
         "name": "modificationTime",
         "type": "\"long\""
        }
       ],
       "type": "table"
      }
     },
     "output_type": "display_data"
    }
   ],
   "source": [
    "%fs \n",
    "ls /mnt/sales/landing\n"
   ]
  },
  {
   "cell_type": "code",
   "execution_count": null,
   "metadata": {
    "application/vnd.databricks.v1+cell": {
     "cellMetadata": {
      "byteLimit": 2048000,
      "rowLimit": 10000
     },
     "inputWidgets": {},
     "nuid": "1e5d635a-b55f-4564-b7da-a727a8df560e",
     "showTitle": false,
     "title": ""
    }
   },
   "outputs": [],
   "source": [
    "df = spark.read.format(\"csv\").option(\"inferSchema\", \"true\").option(\"header\", \"true\").load(\"/mnt/sales/landing/{}\".format(filename))"
   ]
  },
  {
   "cell_type": "code",
   "execution_count": null,
   "metadata": {
    "application/vnd.databricks.v1+cell": {
     "cellMetadata": {
      "byteLimit": 2048000,
      "rowLimit": 10000
     },
     "inputWidgets": {},
     "nuid": "d52610d6-67bc-4377-84df-ac523cc68b56",
     "showTitle": false,
     "title": ""
    }
   },
   "outputs": [
    {
     "name": "stdout",
     "output_type": "stream",
     "text": [
      "+--------+-------------------+-----------+---------------+\n",
      "|order_id|         order_date|customer_id|   order_status|\n",
      "+--------+-------------------+-----------+---------------+\n",
      "| 1111111|2013-07-25 00:00:00|      11599|         CLOSED|\n",
      "| 2222222|2013-07-25 00:00:00|        256|PENDING_PAYMENT|\n",
      "| 3333333|2013-07-25 00:00:00|      12111|       COMPLETE|\n",
      "| 4444444|2013-07-25 00:00:00|       8827|         CLOSED|\n",
      "+--------+-------------------+-----------+---------------+\n",
      "\n"
     ]
    }
   ],
   "source": [
    "df.show()"
   ]
  },
  {
   "cell_type": "code",
   "execution_count": null,
   "metadata": {
    "application/vnd.databricks.v1+cell": {
     "cellMetadata": {
      "byteLimit": 2048000,
      "rowLimit": 10000
     },
     "inputWidgets": {},
     "nuid": "16094c07-656c-4840-af2e-9ec5a51280d0",
     "showTitle": false,
     "title": ""
    }
   },
   "outputs": [
    {
     "data": {
      "text/html": [
       "<style scoped>\n",
       "  .table-result-container {\n",
       "    max-height: 300px;\n",
       "    overflow: auto;\n",
       "  }\n",
       "  table, th, td {\n",
       "    border: 1px solid black;\n",
       "    border-collapse: collapse;\n",
       "  }\n",
       "  th, td {\n",
       "    padding: 5px;\n",
       "  }\n",
       "  th {\n",
       "    text-align: left;\n",
       "  }\n",
       "</style><div class='table-result-container'><table class='table-result'><thead style='background-color: white'><tr><th>order_id</th><th>order_date</th><th>customer_id</th><th>order_status</th></tr></thead><tbody><tr><td>1111111</td><td>2013-07-25T00:00:00Z</td><td>11599</td><td>CLOSED</td></tr><tr><td>2222222</td><td>2013-07-25T00:00:00Z</td><td>256</td><td>PENDING_PAYMENT</td></tr><tr><td>3333333</td><td>2013-07-25T00:00:00Z</td><td>12111</td><td>COMPLETE</td></tr><tr><td>4444444</td><td>2013-07-25T00:00:00Z</td><td>8827</td><td>CLOSED</td></tr></tbody></table></div>"
      ]
     },
     "metadata": {
      "application/vnd.databricks.v1+output": {
       "addedWidgets": {},
       "aggData": [],
       "aggError": "",
       "aggOverflow": false,
       "aggSchema": [],
       "aggSeriesLimitReached": false,
       "aggType": "",
       "arguments": {},
       "columnCustomDisplayInfos": {},
       "data": [
        [
         1111111,
         "2013-07-25T00:00:00Z",
         11599,
         "CLOSED"
        ],
        [
         2222222,
         "2013-07-25T00:00:00Z",
         256,
         "PENDING_PAYMENT"
        ],
        [
         3333333,
         "2013-07-25T00:00:00Z",
         12111,
         "COMPLETE"
        ],
        [
         4444444,
         "2013-07-25T00:00:00Z",
         8827,
         "CLOSED"
        ]
       ],
       "datasetInfos": [],
       "dbfsResultPath": null,
       "isJsonSchema": true,
       "metadata": {},
       "overflow": false,
       "plotOptions": {
        "customPlotOptions": {},
        "displayType": "table",
        "pivotAggregation": null,
        "pivotColumns": null,
        "xColumns": null,
        "yColumns": null
       },
       "removedWidgets": [],
       "schema": [
        {
         "metadata": "{}",
         "name": "order_id",
         "type": "\"integer\""
        },
        {
         "metadata": "{}",
         "name": "order_date",
         "type": "\"timestamp\""
        },
        {
         "metadata": "{}",
         "name": "customer_id",
         "type": "\"integer\""
        },
        {
         "metadata": "{}",
         "name": "order_status",
         "type": "\"string\""
        }
       ],
       "type": "table"
      }
     },
     "output_type": "display_data"
    }
   ],
   "source": [
    "display(df)"
   ]
  },
  {
   "cell_type": "code",
   "execution_count": null,
   "metadata": {
    "application/vnd.databricks.v1+cell": {
     "cellMetadata": {
      "byteLimit": 2048000,
      "rowLimit": 10000
     },
     "inputWidgets": {},
     "nuid": "78cb8b31-ef6e-4f55-ba23-d00baf10500f",
     "showTitle": true,
     "title": "Condition 1"
    }
   },
   "outputs": [],
   "source": [
    "errorFlg = False\n",
    "\n",
    "orderscount = df.count()\n",
    "distinct_orders = df.select(\"order_id\").distinct().count()\n",
    "\n",
    "if orderscount != distinct_orders:\n",
    "    errorFlg = True\n",
    "if errorFlg:\n",
    "    dbutils.fs.mv('/mnt/sales/landing/{}'.format(filename), 'mnt/sales/discarded')\n",
    "    dbutils.notebook.exit('{\"errorFlg\": \"true\", \"errorMsg\":\"Orderid is repeated\"}')\n",
    "    \n",
    "df.createOrReplaceTempView(\"orders\")"
   ]
  },
  {
   "cell_type": "code",
   "execution_count": null,
   "metadata": {
    "application/vnd.databricks.v1+cell": {
     "cellMetadata": {
      "byteLimit": 2048000,
      "rowLimit": 10000
     },
     "inputWidgets": {},
     "nuid": "ab37742a-ce25-4c0c-be56-92309737203b",
     "showTitle": false,
     "title": ""
    }
   },
   "outputs": [
    {
     "name": "stdout",
     "output_type": "stream",
     "text": [
      "4\n",
      "4\n"
     ]
    }
   ],
   "source": [
    "print(distinct_orders)\n",
    "print(orderscount)"
   ]
  },
  {
   "cell_type": "code",
   "execution_count": null,
   "metadata": {
    "application/vnd.databricks.v1+cell": {
     "cellMetadata": {
      "byteLimit": 2048000,
      "rowLimit": 10000
     },
     "inputWidgets": {},
     "nuid": "c3e60a07-1fbb-42bb-8abb-e37aac2588c7",
     "showTitle": true,
     "title": "Condition 2"
    }
   },
   "outputs": [],
   "source": [
    "dbServer = 'retaildb-sales'\n",
    "dbPort = '1433'\n",
    "dbName = 'retaildb'\n",
    "dbUser = 'prem'\n",
    "dbPassword = 'sqlpassword'\n",
    "databricksScope = 'salesprojectscope'\n",
    "\n",
    "connectionUrl = 'jdbc:sqlserver://{}.database.windows.net:{};database={};user={};'.format(dbServer,dbPort, dbName, dbUser)\n",
    "\n",
    "dbPassword = dbutils.secrets.get(scope = databricksScope, key='sqlpassword')\n",
    "\n",
    "connectionProperties = {'password': dbPassword,'driver':'com.microsoft.sqlserver.jdbc.SQLServerDriver'}"
   ]
  },
  {
   "cell_type": "code",
   "execution_count": null,
   "metadata": {
    "application/vnd.databricks.v1+cell": {
     "cellMetadata": {
      "byteLimit": 2048000,
      "rowLimit": 10000
     },
     "inputWidgets": {},
     "nuid": "870d67df-c645-43df-82c7-af3c5813a00d",
     "showTitle": false,
     "title": ""
    }
   },
   "outputs": [],
   "source": [
    "valid_status_df = spark.read.jdbc(url = connectionUrl, table = 'dbo.valid_order_status', properties = connectionProperties)"
   ]
  },
  {
   "cell_type": "code",
   "execution_count": null,
   "metadata": {
    "application/vnd.databricks.v1+cell": {
     "cellMetadata": {
      "byteLimit": 2048000,
      "rowLimit": 10000
     },
     "inputWidgets": {},
     "nuid": "9b73baf7-a5ff-4c59-bda0-5ddf2b809928",
     "showTitle": false,
     "title": ""
    }
   },
   "outputs": [
    {
     "name": "stdout",
     "output_type": "stream",
     "text": [
      "+---------------+\n",
      "|    status_name|\n",
      "+---------------+\n",
      "|        ON_HOLD|\n",
      "| PAYMENT_REVIEW|\n",
      "|     PROCESSING|\n",
      "|         CLOSED|\n",
      "|SUSPECTED_FRAUD|\n",
      "|       COMPLETE|\n",
      "|        PENDING|\n",
      "|       CANCELED|\n",
      "|PENDING_PAYMENT|\n",
      "+---------------+\n",
      "\n"
     ]
    }
   ],
   "source": [
    "valid_status_df.show()"
   ]
  },
  {
   "cell_type": "code",
   "execution_count": null,
   "metadata": {
    "application/vnd.databricks.v1+cell": {
     "cellMetadata": {
      "byteLimit": 2048000,
      "rowLimit": 10000
     },
     "inputWidgets": {},
     "nuid": "6a46d799-b7b4-4477-9726-c481e26f48d8",
     "showTitle": false,
     "title": ""
    }
   },
   "outputs": [],
   "source": [
    "valid_status_df.createOrReplaceTempView('valid_status')"
   ]
  },
  {
   "cell_type": "code",
   "execution_count": null,
   "metadata": {
    "application/vnd.databricks.v1+cell": {
     "cellMetadata": {
      "byteLimit": 2048000,
      "rowLimit": 10000
     },
     "inputWidgets": {},
     "nuid": "805f38d2-ffd7-4b3b-81e7-3b4c60becf9b",
     "showTitle": false,
     "title": ""
    }
   },
   "outputs": [],
   "source": [
    "invalid_rows_df = spark.sql(\"select * from orders where order_status not in (select * from valid_status)\")"
   ]
  },
  {
   "cell_type": "code",
   "execution_count": null,
   "metadata": {
    "application/vnd.databricks.v1+cell": {
     "cellMetadata": {
      "byteLimit": 2048000,
      "rowLimit": 10000
     },
     "inputWidgets": {},
     "nuid": "cafd01d5-4e30-400e-91c6-88f868700280",
     "showTitle": false,
     "title": ""
    }
   },
   "outputs": [
    {
     "name": "stdout",
     "output_type": "stream",
     "text": [
      "+--------+----------+-----------+------------+\n",
      "|order_id|order_date|customer_id|order_status|\n",
      "+--------+----------+-----------+------------+\n",
      "+--------+----------+-----------+------------+\n",
      "\n"
     ]
    }
   ],
   "source": [
    "invalid_rows_df.show()"
   ]
  },
  {
   "cell_type": "code",
   "execution_count": null,
   "metadata": {
    "application/vnd.databricks.v1+cell": {
     "cellMetadata": {
      "byteLimit": 2048000,
      "rowLimit": 10000
     },
     "inputWidgets": {},
     "nuid": "4c032de3-049c-4139-8e43-1a573b1c56f5",
     "showTitle": false,
     "title": ""
    }
   },
   "outputs": [],
   "source": [
    "if invalid_rows_df.count() > 0:\n",
    "    errorFlg = True\n",
    "if errorFlg:\n",
    "    dbutils.fs.mv('/mnt/sales/landing/{}'.format(filename), 'mnt/sales/discarded')\n",
    "    dbutils.notebook.exit('{\"errorFlg\": \"true\", \"errorMsg\":\"invalid Order status found}')\n",
    "else:\n",
    "    dbutils.fs.mv('/mnt/sales/landing/{}'.format(filename), 'mnt/sales/staging')\n",
    "    "
   ]
  },
  {
   "cell_type": "markdown",
   "metadata": {
    "application/vnd.databricks.v1+cell": {
     "cellMetadata": {},
     "inputWidgets": {},
     "nuid": "dd8a2195-d73b-4dc4-b3b2-20a57bb6fed6",
     "showTitle": false,
     "title": ""
    }
   },
   "source": [
    "order_items"
   ]
  },
  {
   "cell_type": "code",
   "execution_count": null,
   "metadata": {
    "application/vnd.databricks.v1+cell": {
     "cellMetadata": {
      "byteLimit": 2048000,
      "rowLimit": 10000
     },
     "inputWidgets": {},
     "nuid": "9b1fcabf-81ce-4220-b88c-e9a40ad24352",
     "showTitle": false,
     "title": ""
    }
   },
   "outputs": [],
   "source": [
    "order_items_df = spark.read.csv('/mnt/sales/order_items/order_items.csv', header=True, inferSchema=True)\n",
    "order_items_df.createOrReplaceTempView(\"order_items\")\n",
    "display(order_items_df)"
   ]
  },
  {
   "cell_type": "markdown",
   "metadata": {
    "application/vnd.databricks.v1+cell": {
     "cellMetadata": {},
     "inputWidgets": {},
     "nuid": "e8d7ed36-06dc-40bc-99a0-7add0725b6e3",
     "showTitle": false,
     "title": ""
    }
   },
   "source": [
    "customers"
   ]
  },
  {
   "cell_type": "code",
   "execution_count": null,
   "metadata": {
    "application/vnd.databricks.v1+cell": {
     "cellMetadata": {
      "byteLimit": 2048000,
      "rowLimit": 10000
     },
     "inputWidgets": {},
     "nuid": "cd609504-d98a-423e-9cf6-f583e23a980a",
     "showTitle": false,
     "title": ""
    }
   },
   "outputs": [],
   "source": [
    "customers_df = spark.read.jdbc(url = connectionUrl, table = 'dbo.customers', properties = connectionProperties)\n",
    "customers_df.show()\n",
    "customers_df.createOrReplaceTempView(\"customers\")"
   ]
  },
  {
   "cell_type": "code",
   "execution_count": null,
   "metadata": {
    "application/vnd.databricks.v1+cell": {
     "cellMetadata": {},
     "inputWidgets": {},
     "nuid": "289ab54a-469d-4dec-bd11-aaf49fbd8940",
     "showTitle": false,
     "title": ""
    }
   },
   "outputs": [],
   "source": [
    "ordersdf = spark.read.format(\"csv\").option(\"inferSchema\", \"true\").option(\"header\", \"true\").load(\"/mnt/sales/staging/{}\".format(filename))\n",
    "ordersdf.createOrReplaceTempView(\"orders\")"
   ]
  },
  {
   "cell_type": "code",
   "execution_count": null,
   "metadata": {
    "application/vnd.databricks.v1+cell": {
     "cellMetadata": {
      "byteLimit": 2048000,
      "rowLimit": 10000
     },
     "inputWidgets": {},
     "nuid": "096671ab-890d-4ca0-af67-10d4823e40c0",
     "showTitle": false,
     "title": ""
    }
   },
   "outputs": [],
   "source": [
    "df1 = spark.sql(\"\"\"\n",
    "    SELECT \n",
    "        customers.customer_id, \n",
    "        customers.customer_fname, \n",
    "        customers.customer_lname, \n",
    "        customers.customer_city,\n",
    "        customers.customer_state, \n",
    "        customers.customer_zipcode, \n",
    "        COUNT(orders.order_id) AS num_orders_placed, \n",
    "        ROUND(SUM(order_items.order_item_subtotal), 2) AS total_amount \n",
    "    FROM \n",
    "        customers, \n",
    "        orders, \n",
    "        order_items \n",
    "    WHERE \n",
    "        customers.customer_id = orders.customer_id \n",
    "        AND order_items.order_item_order_id = orders.order_id \n",
    "    GROUP BY \n",
    "        customers.customer_id, \n",
    "        customers.customer_fname, \n",
    "        customers.customer_lname, \n",
    "        customers.customer_city,\n",
    "        customers.customer_state, \n",
    "        customers.customer_zipcode \n",
    "    ORDER BY \n",
    "        total_amount DESC\n",
    "\"\"\")"
   ]
  },
  {
   "cell_type": "code",
   "execution_count": null,
   "metadata": {
    "application/vnd.databricks.v1+cell": {
     "cellMetadata": {},
     "inputWidgets": {},
     "nuid": "4a89282e-681f-4e15-8c9a-346832fecb1b",
     "showTitle": false,
     "title": ""
    }
   },
   "outputs": [],
   "source": [
    "df1.write.jdbc(url = connectionUrl, table = 'dbo.sales_reporting', mode = 'overwrite', properties = connectionProperties)"
   ]
  }
 ],
 "metadata": {
  "application/vnd.databricks.v1+notebook": {
   "dashboards": [],
   "environmentMetadata": {
    "base_environment": "",
    "client": "1"
   },
   "language": "python",
   "notebookMetadata": {
    "mostRecentlyExecutedCommandWithImplicitDF": {
     "commandId": 1149874802914083,
     "dataframes": [
      "_sqldf"
     ]
    },
    "pythonIndentUnit": 4
   },
   "notebookName": "Sales_Project",
   "widgets": {}
  },
  "kernelspec": {
   "display_name": "Python 3",
   "language": "python",
   "name": "python3"
  },
  "language_info": {
   "codemirror_mode": {
    "name": "ipython",
    "version": 3
   },
   "file_extension": ".py",
   "mimetype": "text/x-python",
   "name": "python",
   "nbconvert_exporter": "python",
   "pygments_lexer": "ipython3",
   "version": "3.11.3"
  }
 },
 "nbformat": 4,
 "nbformat_minor": 0
}
